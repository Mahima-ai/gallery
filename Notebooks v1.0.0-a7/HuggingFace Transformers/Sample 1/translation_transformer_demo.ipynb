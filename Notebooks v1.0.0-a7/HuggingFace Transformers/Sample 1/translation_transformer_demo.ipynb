{
 "cells": [
  {
   "cell_type": "markdown",
   "id": "f8214838",
   "metadata": {},
   "source": [
    "# BentoML Transformer Tutorial\n",
    "\n",
    "This is a sample project demonstrating basic usage of BentoML with Transformer.\n",
    "\n",
    "In this project, we will train a classifier model using Transformer and the translation task, build an prediction service for serving the trained model via an HTTP server, and containerize the model server as a docker image for production deployment.\n",
    "\n",
    "## Install Dependencies"
   ]
  },
  {
   "cell_type": "code",
   "execution_count": null,
   "id": "c514efa3",
   "metadata": {},
   "outputs": [],
   "source": [
    "!pip install -r requirements.txt"
   ]
  },
  {
   "cell_type": "markdown",
   "id": "2b401b96",
   "metadata": {},
   "source": [
    "## Training the model"
   ]
  },
  {
   "cell_type": "code",
   "execution_count": null,
   "id": "058cce96",
   "metadata": {},
   "outputs": [],
   "source": [
    "from transformers import TFAutoModelForSeq2SeqLM, AutoTokenizer\n",
    "\n",
    "model_checkpoint = 't5-small'\n",
    "model = TFAutoModelForSeq2SeqLM.from_pretrained(model_checkpoint)\n",
    "tokenizer = AutoTokenizer.from_pretrained(model_checkpoint)\n"
   ]
  },
  {
   "cell_type": "markdown",
   "id": "320b0b3f",
   "metadata": {},
   "source": [
    "## Save the model instance `model` to BentoML local model store"
   ]
  },
  {
   "cell_type": "code",
   "execution_count": null,
   "id": "b19f61fe",
   "metadata": {},
   "outputs": [],
   "source": [
    "import bentoml\n",
    "\n",
    "tag = bentoml.transformers.save('translation', \n",
    "                                model, \n",
    "                                tokenizer = tokenizer, \n",
    "                                metadata = {'Description':'Using AutoModel'}\n",
    "                              )\n",
    "tag"
   ]
  },
  {
   "cell_type": "markdown",
   "id": "ddbc261e",
   "metadata": {},
   "source": [
    "## Create a BentoML Service for serving the model\n",
    "\n",
    "Note: using `%%writefile` here because bentoml.Service instance must be created in a separate .py file\n",
    "\n",
    "Here we define as many api endpoints as we want."
   ]
  },
  {
   "cell_type": "code",
   "execution_count": null,
   "id": "7fb96530",
   "metadata": {},
   "outputs": [],
   "source": [
    "%%writefile service.py\n",
    "\n",
    "import bentoml\n",
    "from bentoml.io import Text\n",
    "\n",
    "model_tag = \"translation:latest\"\n",
    "\n",
    "translation_runner = bentoml.transformers.load_runner(model_tag,tasks='translation')\n",
    "\n",
    "translate = bentoml.Service(\"translation\", runners=[translation_runner])\n",
    "\n",
    "@translate.api(input=Text(), output=Text())\n",
    "def translate_text(input_series: str) -> str:\n",
    "    try:\n",
    "        result = translation_runner.run(input_series)\n",
    "        print(result)\n",
    "        return result['translation_text']\n",
    "    except:\n",
    "        return 'Invalid Input'\n",
    "\n"
   ]
  },
  {
   "cell_type": "markdown",
   "id": "bb358fd5",
   "metadata": {},
   "source": [
    "Start a dev model server to test out the service defined above"
   ]
  },
  {
   "cell_type": "code",
   "execution_count": null,
   "id": "c87e4742",
   "metadata": {},
   "outputs": [],
   "source": [
    "!bentoml serve service.py:svc --reload"
   ]
  },
  {
   "cell_type": "markdown",
   "id": "d3750d39",
   "metadata": {},
   "source": [
    "Open your web browser at http://127.0.0.1:3000 to view the Bento UI for sending test requests. Now you can use something like:"
   ]
  },
  {
   "cell_type": "code",
   "execution_count": null,
   "id": "c8d42c4e",
   "metadata": {},
   "outputs": [],
   "source": [
    "import requests,json \n",
    "def test_translation(host, data):\n",
    "    data_json=json.dumps(data)\n",
    "    print('Sending Request')\n",
    "    resp = requests.post(\n",
    "        url = f\"http://{host}/translate_text\",\n",
    "        headers={\"Content-Type\": \"application/json\"},\n",
    "        data=data_json,\n",
    "           )\n",
    "\n",
    "    print('Response')\n",
    "    return resp"
   ]
  },
  {
   "cell_type": "code",
   "execution_count": null,
   "id": "c80a3094",
   "metadata": {},
   "outputs": [],
   "source": [
    "response=test_translation('127.0.0.1:3000', 'This too shall pass.')\n",
    "response.text\n"
   ]
  },
  {
   "cell_type": "markdown",
   "id": "594ffd79",
   "metadata": {},
   "source": [
    "## Build a Bento for distribution and deployment\n",
    "\n",
    "Bento is the distribution format in BentoML which captures all the source code, model files, config files and dependency specifications required for running the service for production deployment. Think of it as Docker/Container designed for machine learning models.\n",
    "\n",
    "Create a bento file `bentofile.yaml` for building a Bento for the service:\n"
   ]
  },
  {
   "cell_type": "code",
   "execution_count": null,
   "id": "e221d531",
   "metadata": {},
   "outputs": [],
   "source": [
    "%%write bentofile.yaml\n",
    "\n",
    "service: \"service.py:translate\"  # A convention for locating your service: <YOUR_SERVICE_PY>:<YOUR_SERVICE_ANNOTATION>\n",
    "description: \"file: ./README.md\"\n",
    "labels:\n",
    "    owner: bentoml-team\n",
    "    stage: demo\n",
    "include:\n",
    " - \"*.py\"  # A pattern for matching which files to include in the bento\n",
    "python:\n",
    "  packages:\n",
    "   - transformers[tf-cpu] # Additional libraries to be included in the bento\n",
    "\n"
   ]
  },
  {
   "cell_type": "markdown",
   "id": "580dfdaf",
   "metadata": {},
   "source": [
    "Simply run `bentoml build` from current directory to build a Bento with the latest version of the tensorflow_mnist model. This may take a while when running for the first time for BentoML to resolve all dependency versions:"
   ]
  },
  {
   "cell_type": "code",
   "execution_count": null,
   "id": "855ac85c",
   "metadata": {},
   "outputs": [],
   "source": [
    "!bentoml build"
   ]
  },
  {
   "cell_type": "markdown",
   "id": "2ca64a5a",
   "metadata": {},
   "source": [
    "Starting a dev server with the Bento build:"
   ]
  },
  {
   "cell_type": "code",
   "execution_count": null,
   "id": "cfff3a9b",
   "metadata": {},
   "outputs": [],
   "source": [
    "!bentoml serve translation:latest"
   ]
  },
  {
   "cell_type": "markdown",
   "id": "10edb7a8",
   "metadata": {},
   "source": [
    "## Containerize and Deployment\n",
    "\n",
    "Bento is designed to be deployed to run efficiently in a variety of different environments. And there are lots of deployment options and tools as part of the BentoML eco-system, such as Yatai and bentoctl for direct deployment to cloud platforms.\n",
    "\n",
    "In this guide, we will show you the most basic way of deploying a Bento, which is converting a Bento into a Docker image containing the HTTP model server.\n",
    "\n",
    "Make sure you have docker installed and docker deamon running, and run the following command:"
   ]
  },
  {
   "cell_type": "code",
   "execution_count": null,
   "id": "045b8d10",
   "metadata": {},
   "outputs": [],
   "source": [
    "!bentoml containerize translation:latest"
   ]
  },
  {
   "cell_type": "markdown",
   "id": "0366f509",
   "metadata": {},
   "source": [
    "This will build a new docker image with all source code, model files and dependencies in place, and ready for production deployment. To start a container with this docker image locally, run:\n",
    "\n",
    "`docker run -p 3000:3000 translation:hmto4mhaxk7emcdr `"
   ]
  },
  {
   "cell_type": "markdown",
   "id": "bd0b9552",
   "metadata": {},
   "source": [
    "## What's Next?,\n",
    "   \n",
    "  - 👉 [Pop into our Slack community!](https://l.linklyhq.com/l/ktO8) We're happy to help with any issue you face or even just to meet you and hear what you're working on.,\n",
    "   \n",
    "  - Dive deeper into the [Core Concepts](https://docs.bentoml.org/en/v1.0.0-a7/concepts/index.html) in BentoML,\n",
    "  \n",
    "  - Learn how to use BentoML with other ML Frameworks at [Frameworks Guide](https://docs.bentoml.org/en/v1.0.0-a7/frameworks/index.html) or check out other [gallery projects](https://github.com/bentoml/gallery),\n",
    "  - Learn more about model deployment options for Bento:,\n",
    "      - [🦄️ Yatai](https://github.com/bentoml/Yatai): Model Deployment at scale on Kubernetes,\n",
    "      - [🚀 bentoctl](https://github.com/bentoml/bentoctl): Fast model deployment on any cloud platform"
   ]
  }
 ],
 "metadata": {
  "kernelspec": {
   "display_name": "Python 3 (ipykernel)",
   "language": "python",
   "name": "python3"
  },
  "language_info": {
   "codemirror_mode": {
    "name": "ipython",
    "version": 3
   },
   "file_extension": ".py",
   "mimetype": "text/x-python",
   "name": "python",
   "nbconvert_exporter": "python",
   "pygments_lexer": "ipython3",
   "version": "3.8.13"
  },
  "toc": {
   "base_numbering": 1,
   "nav_menu": {},
   "number_sections": true,
   "sideBar": true,
   "skip_h1_title": false,
   "title_cell": "Table of Contents",
   "title_sidebar": "Contents",
   "toc_cell": false,
   "toc_position": {},
   "toc_section_display": true,
   "toc_window_display": false
  }
 },
 "nbformat": 4,
 "nbformat_minor": 5
}
