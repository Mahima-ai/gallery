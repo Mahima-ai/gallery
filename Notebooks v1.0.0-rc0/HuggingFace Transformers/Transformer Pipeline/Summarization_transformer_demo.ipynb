{
 "cells": [
  {
   "cell_type": "markdown",
   "id": "f8214838",
   "metadata": {},
   "source": [
    "# BentoML Transformer Tutorial\n",
    "\n",
    "This is a sample project demonstrating basic usage of BentoML with Transformer.\n",
    "\n",
    "In this project, we will train a classifier model using Transformer and the Summarization Pipeline, build an prediction service for serving the trained model via an HTTP server, and containerize the model server as a docker image for production deployment.\n",
    "\n",
    "## Install Dependencies"
   ]
  },
  {
   "cell_type": "code",
   "execution_count": null,
   "id": "c514efa3",
   "metadata": {},
   "outputs": [],
   "source": [
    "!pip install -r requirements.txt"
   ]
  },
  {
   "cell_type": "markdown",
   "id": "2b401b96",
   "metadata": {},
   "source": [
    "## Create the transformer pipeline"
   ]
  },
  {
   "cell_type": "code",
   "execution_count": null,
   "id": "058cce96",
   "metadata": {},
   "outputs": [],
   "source": [
    "from transformers import pipeline\n",
    "\n",
    "summarizer = pipeline(\"summarization\")"
   ]
  },
  {
   "cell_type": "markdown",
   "id": "320b0b3f",
   "metadata": {},
   "source": [
    "## Save the pipeline instance `summarizer` to BentoML local model store"
   ]
  },
  {
   "cell_type": "code",
   "execution_count": null,
   "id": "b19f61fe",
   "metadata": {},
   "outputs": [],
   "source": [
    "import bentoml\n",
    "\n",
    "tag = bentoml.transformers.save_model('summarization_rc0', \n",
    "                                summarizer,\n",
    "                                metadata={'Description':'Created using Transformer Pipeline'})\n",
    "tag"
   ]
  },
  {
   "cell_type": "markdown",
   "id": "ddbc261e",
   "metadata": {},
   "source": [
    "## Create a BentoML Service for serving the model\n",
    "\n",
    "Note: using `%%writefile` here because bentoml.Service instance must be created in a separate .py file\n",
    "\n",
    "Here we define as many api endpoints as we want."
   ]
  },
  {
   "cell_type": "code",
   "execution_count": null,
   "id": "7fb96530",
   "metadata": {
    "ExecuteTime": {
     "end_time": "2022-06-02T15:56:43.060374Z",
     "start_time": "2022-06-02T15:56:43.038771Z"
    }
   },
   "outputs": [],
   "source": [
    "%%writefile service.py\n",
    "\n",
    "import bentoml\n",
    "from bentoml.io import Text\n",
    "\n",
    "model_tag = \"summarization_rc0:latest\"\n",
    "\n",
    "summarize_runner = bentoml.transformers.get(model_tag).to_runner()\n",
    "summarize_model = bentoml.models.get(model_tag)\n",
    "\n",
    "summarize = bentoml.Service(\"summarization_rc0\", runners=[summarize_runner])\n",
    "\n",
    "\n",
    "@summarize.api(input=Text(), output=Text())\n",
    "def summarize_text(input_series: str) -> str:\n",
    "    try:\n",
    "        result = summarize_runner.run(input_series)\n",
    "        return result[0]['summary_text']\n",
    "    except:\n",
    "        return 'Invalid Input'"
   ]
  },
  {
   "cell_type": "markdown",
   "id": "bb358fd5",
   "metadata": {},
   "source": [
    "Start a dev model server to test out the service defined above"
   ]
  },
  {
   "cell_type": "code",
   "execution_count": null,
   "id": "c87e4742",
   "metadata": {},
   "outputs": [],
   "source": [
    "!bentoml serve service.py:svc --reload"
   ]
  },
  {
   "cell_type": "markdown",
   "id": "d3750d39",
   "metadata": {},
   "source": [
    "Open your web browser at http://127.0.0.1:3000 to view the Bento UI for sending test requests. Now you can use something like:"
   ]
  },
  {
   "cell_type": "code",
   "execution_count": null,
   "id": "c8d42c4e",
   "metadata": {},
   "outputs": [],
   "source": [
    "import requests,json \n",
    "def test_summarization(host, data):\n",
    "    data_json=json.dumps(data)\n",
    "    print('Sending Request')\n",
    "    resp = requests.post(\n",
    "        url = f\"http://{host}/summarize_text\",\n",
    "        headers={\"Content-Type\": \"application/json\"},\n",
    "        data=data_json,\n",
    "           )\n",
    "\n",
    "    print('Response')\n",
    "    return resp"
   ]
  },
  {
   "cell_type": "code",
   "execution_count": null,
   "id": "c80a3094",
   "metadata": {},
   "outputs": [],
   "source": [
    "ARTICLE = \"\"\" New York (CNN)When Liana Barrientos was 23 years old, she got married in Westchester County, New York.\n",
    "A year later, she got married again in Westchester County, but to a different man and without divorcing her first husband.\n",
    "Only 18 days after that marriage, she got hitched yet again. Then, Barrientos declared \"I do\" five more times, sometimes only within two weeks of each other.\n",
    "In 2010, she married once more, this time in the Bronx. In an application for a marriage license, she stated it was her \"first and only\" marriage.\n",
    "Barrientos, now 39, is facing two criminal counts of \"offering a false instrument for filing in the first degree,\" referring to her false statements on the\n",
    "2010 marriage license application, according to court documents.\n",
    "Prosecutors said the marriages were part of an immigration scam.\n",
    "On Friday, she pleaded not guilty at State Supreme Court in the Bronx, according to her attorney, Christopher Wright, who declined to comment further.\n",
    "After leaving court, Barrientos was arrested and charged with theft of service and criminal trespass for allegedly sneaking into the New York subway through an emergency exit, said Detective\n",
    "Annette Markowski, a police spokeswoman. In total, Barrientos has been married 10 times, with nine of her marriages occurring between 1999 and 2002.\n",
    "All occurred either in Westchester County, Long Island, New Jersey or the Bronx. She is believed to still be married to four men, and at one time, she was married to eight men at once, prosecutors say.\n",
    "Prosecutors said the immigration scam involved some of her husbands, who filed for permanent residence status shortly after the marriages.\n",
    "Any divorces happened only after such filings were approved. It was unclear whether any of the men will be prosecuted.\n",
    "The case was referred to the Bronx District Attorney\\'s Office by Immigration and Customs Enforcement and the Department of Homeland Security\\'s\n",
    "Investigation Division. Seven of the men are from so-called \"red-flagged\" countries, including Egypt, Turkey, Georgia, Pakistan and Mali.\n",
    "Her eighth husband, Rashid Rajput, was deported in 2006 to his native Pakistan after an investigation by the Joint Terrorism Task Force.\n",
    "If convicted, Barrientos faces up to four years in prison.  Her next court appearance is scheduled for May 18.\n",
    "\"\"\"\n",
    "response = test_summarization('127.0.0.1:3000',ARTICLE)\n",
    "response.text\n"
   ]
  },
  {
   "cell_type": "markdown",
   "id": "594ffd79",
   "metadata": {},
   "source": [
    "## Build a Bento for distribution and deployment\n",
    "\n",
    "Bento is the distribution format in BentoML which captures all the source code, model files, config files and dependency specifications required for running the service for production deployment. Think of it as Docker/Container designed for machine learning models.\n",
    "\n",
    "Create a bento file `bentofile.yaml` for building a Bento for the service:\n"
   ]
  },
  {
   "cell_type": "code",
   "execution_count": null,
   "id": "e221d531",
   "metadata": {
    "ExecuteTime": {
     "end_time": "2022-06-02T15:56:48.931598Z",
     "start_time": "2022-06-02T15:56:48.927134Z"
    }
   },
   "outputs": [],
   "source": [
    "%%writefile bentofile.yaml\n",
    "\n",
    "service: \"service.py:summarize\"  # A convention for locating your service: <YOUR_SERVICE_PY>:<YOUR_SERVICE_ANNOTATION>\n",
    "description: \"file: ./README.md\"\n",
    "labels:\n",
    "    owner: bentoml-team\n",
    "    stage: demo\n",
    "include:\n",
    " - \"*.py\"  # A pattern for matching which files to include in the bento\n",
    "python:\n",
    "  packages:\n",
    "   - transformers[tf-cpu]  # Additional libraries to be included in the bento\n"
   ]
  },
  {
   "cell_type": "markdown",
   "id": "580dfdaf",
   "metadata": {},
   "source": [
    "Simply run `bentoml build` from current directory to build a Bento with the latest version of the tensorflow_mnist model. This may take a while when running for the first time for BentoML to resolve all dependency versions:"
   ]
  },
  {
   "cell_type": "code",
   "execution_count": null,
   "id": "855ac85c",
   "metadata": {},
   "outputs": [],
   "source": [
    "!bentoml build"
   ]
  },
  {
   "cell_type": "markdown",
   "id": "2ca64a5a",
   "metadata": {},
   "source": [
    "Starting a dev server with the Bento build:"
   ]
  },
  {
   "cell_type": "code",
   "execution_count": null,
   "id": "cfff3a9b",
   "metadata": {},
   "outputs": [],
   "source": [
    "!bentoml serve summarization_rc0:latest"
   ]
  },
  {
   "cell_type": "markdown",
   "id": "10edb7a8",
   "metadata": {},
   "source": [
    "## Containerize and Deployment\n",
    "\n",
    "Bento is designed to be deployed to run efficiently in a variety of different environments. And there are lots of deployment options and tools as part of the BentoML eco-system, such as Yatai and bentoctl for direct deployment to cloud platforms.\n",
    "\n",
    "In this guide, we will show you the most basic way of deploying a Bento, which is converting a Bento into a Docker image containing the HTTP model server.\n",
    "\n",
    "Make sure you have docker installed and docker deamon running, and run the following command:"
   ]
  },
  {
   "cell_type": "code",
   "execution_count": null,
   "id": "045b8d10",
   "metadata": {},
   "outputs": [],
   "source": [
    "!bentoml containerize summarization_rc0:latest"
   ]
  },
  {
   "cell_type": "markdown",
   "id": "0366f509",
   "metadata": {},
   "source": [
    "This will build a new docker image with all source code, model files and dependencies in place, and ready for production deployment. To start a container with this docker image locally, run:\n",
    "\n",
    "`docker run -p 3000:3000 summarization_rc0:g3fbsno5u6agfgh2 `"
   ]
  },
  {
   "cell_type": "markdown",
   "id": "bd0b9552",
   "metadata": {},
   "source": [
    "## What's Next?,\n",
    "   \n",
    "  - 👉 [Pop into our Slack community!](https://l.linklyhq.com/l/ktO8) We're happy to help with any issue you face or even just to meet you and hear what you're working on.,\n",
    "   \n",
    "  - Dive deeper into the [Core Concepts](https://docs.bentoml.org/en/latest/concepts/index.html) in BentoML,\n",
    "  \n",
    "  - Learn how to use BentoML with other ML Frameworks at [Frameworks Guide](https://docs.bentoml.org/en/latest/frameworks/index.html) or check out other [gallery projects](https://github.com/bentoml/gallery),\n",
    "  - Learn more about model deployment options for Bento:,\n",
    "      - [🦄️ Yatai](https://github.com/bentoml/Yatai): Model Deployment at scale on Kubernetes,\n",
    "      - [🚀 bentoctl](https://github.com/bentoml/bentoctl): Fast model deployment on any cloud platform"
   ]
  }
 ],
 "metadata": {
  "kernelspec": {
   "display_name": "Python 3 (ipykernel)",
   "language": "python",
   "name": "python3"
  },
  "language_info": {
   "codemirror_mode": {
    "name": "ipython",
    "version": 3
   },
   "file_extension": ".py",
   "mimetype": "text/x-python",
   "name": "python",
   "nbconvert_exporter": "python",
   "pygments_lexer": "ipython3",
   "version": "3.8.13"
  },
  "toc": {
   "base_numbering": 1,
   "nav_menu": {},
   "number_sections": true,
   "sideBar": true,
   "skip_h1_title": false,
   "title_cell": "Table of Contents",
   "title_sidebar": "Contents",
   "toc_cell": false,
   "toc_position": {},
   "toc_section_display": true,
   "toc_window_display": false
  }
 },
 "nbformat": 4,
 "nbformat_minor": 5
}
