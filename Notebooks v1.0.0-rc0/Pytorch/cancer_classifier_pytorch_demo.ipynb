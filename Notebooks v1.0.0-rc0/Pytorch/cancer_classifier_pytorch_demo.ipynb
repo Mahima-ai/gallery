{
 "cells": [
  {
   "cell_type": "markdown",
   "id": "f8214838",
   "metadata": {},
   "source": [
    "# BentoML Pytorch Tutorial\n",
    "\n",
    "This is a sample project demonstrating basic usage of BentoML with Pytorch.\n",
    "\n",
    "In this project, we will train a classifier model using Pytorch and the breast cancer dataset, build an prediction service for serving the trained model via an HTTP server, and containerize the model server as a docker image for production deployment.\n",
    "\n",
    "## Install Dependencies"
   ]
  },
  {
   "cell_type": "code",
   "execution_count": null,
   "id": "c514efa3",
   "metadata": {
    "ExecuteTime": {
     "end_time": "2022-06-02T08:47:57.674972Z",
     "start_time": "2022-06-02T08:46:21.010755Z"
    }
   },
   "outputs": [],
   "source": [
    "!pip install -r requirements.txt"
   ]
  },
  {
   "cell_type": "markdown",
   "id": "2b401b96",
   "metadata": {},
   "source": [
    "## Training the model"
   ]
  },
  {
   "cell_type": "code",
   "execution_count": null,
   "id": "37dd04d2",
   "metadata": {},
   "outputs": [],
   "source": [
    "# Loading the dataset\n",
    "from sklearn import datasets\n",
    "dataset = datasets.load_breast_cancer()\n",
    "\n",
    "# Train test split\n",
    "from sklearn.model_selection import train_test_split\n",
    "X_train, X_test, Y_train, Y_test = train_test_split(dataset.data,\n",
    "                                                    dataset.target,\n",
    "                                                    test_size=0.2)\n",
    "\n",
    "# Converting to Pytorch Tensors\n",
    "Xtrain = torch.from_numpy(X_train).float()\n",
    "Xtest = torch.from_numpy(X_test).float()\n",
    "Ytrain = torch.from_numpy(Y_train)\n",
    "Ytest = torch.from_numpy(Y_test)\n",
    "\n",
    "# Defining the neural network\n",
    "import torch.nn as nn\n",
    "import torch.nn.functional as F\n",
    "input_size = Xtrain.shape[1]\n",
    "output_size = len(Ytrain.unique())\n",
    "\n",
    "class Net(nn.Module):\n",
    "    \n",
    "    def __init__(self): \n",
    "        super(Net, self).__init__()\n",
    "        \n",
    "        self.fc1 = nn.Linear(input_size, 100) \n",
    "        self.fc2 = nn.Linear(100, 100)\n",
    "        self.fc3 = nn.Linear(100, output_size)        \n",
    "        self.hidden_size = 100\n",
    "        self.activation_fn = 'relu'               \n",
    "    \n",
    "    def forward(self, x):\n",
    "        \n",
    "        activation_fn = F.relu\n",
    "\n",
    "        x = activation_fn(self.fc1(x))\n",
    "        x = activation_fn(self.fc2(x))\n",
    "        x = self.fc3(x)\n",
    "        return F.log_softmax(x, dim = -1)\n",
    "    \n",
    "# Training and evaluating the model\n",
    "import torch.optim as optim\n",
    "\n",
    "def train_and_evaluate_model(model, learn_rate=0.001):\n",
    "    epoch_data = []\n",
    "    epochs = 1001\n",
    "    \n",
    "    optimizer = optim.Adam(model.parameters(), lr=learn_rate)    \n",
    "    loss_fn = nn.NLLLoss()    \n",
    "    test_accuracy = 0.0\n",
    "    \n",
    "    for epoch in range(1, epochs):\n",
    "        optimizer.zero_grad()\n",
    "        Ypred = model(Xtrain)\n",
    "        loss = loss_fn(Ypred , Ytrain)\n",
    "        loss.backward()\n",
    "        optimizer.step()\n",
    "\n",
    "        Ypred_test = model(Xtest)\n",
    "        loss_test = loss_fn(Ypred_test, Ytest)\n",
    "        _, pred = Ypred_test.data.max(1)\n",
    "\n",
    "        test_accuracy = pred.eq(Ytest.data).sum().item() / Y_test.size        \n",
    "        epoch_data.append([epoch, loss.data.item(), loss_test.data.item(), test_accuracy])\n",
    "\n",
    "        if epoch % 100 == 0:\n",
    "            print ('epoch - %d train loss - %.2f test loss - %.2f Test accuracy - %.4f'\\\n",
    "                   % (epoch, loss.data.item(), loss_test.data.item(), test_accuracy))\n",
    "            \n",
    "\n",
    "    return {'model' : model,\n",
    "            'epoch_data' : epoch_data, \n",
    "            'num_epochs' : epochs, \n",
    "            'optimizer' : optimizer, \n",
    "            'loss_fn' : loss_fn,\n",
    "            'test_accuracy' : test_accuracy,\n",
    "            '_, pred' : Ypred_test.data.max(1),\n",
    "            'actual_test_label' : Ytest,\n",
    "            }\n",
    "\n",
    "net = Net()\n",
    "result = train_and_evaluate_model(net)"
   ]
  },
  {
   "cell_type": "code",
   "execution_count": null,
   "id": "96f16d99",
   "metadata": {},
   "outputs": [],
   "source": [
    "from sklearn.metrics import accuracy_score, recall_score, precision_score\n",
    "\n",
    "accuracy=accuracy_score(Ytest,result['_, pred'][1])\n",
    "recall=recall_score(Ytest,result['_, pred'][1])\n",
    "precision=precision_score(Ytest,result['_, pred'][1])"
   ]
  },
  {
   "cell_type": "markdown",
   "id": "320b0b3f",
   "metadata": {},
   "source": [
    "## Save the model instance `net` to BentoML local model store"
   ]
  },
  {
   "cell_type": "code",
   "execution_count": null,
   "id": "b19f61fe",
   "metadata": {},
   "outputs": [],
   "source": [
    "metadata ={'Accuracy':accuracy,'Precision':precision,'Recall':recall}\n",
    "\n",
    "custom_objects = {'labels':['Malignant','Benign']}\n",
    "\n",
    "import bentoml\n",
    "tag = bentoml.pytorch.save_model('cancer_classifier_rc0',\n",
    "                           net,\n",
    "                           metadata=metadata,\n",
    "                           custom_objects = custom_objects)\n",
    "tag"
   ]
  },
  {
   "cell_type": "markdown",
   "id": "ddbc261e",
   "metadata": {},
   "source": [
    "## Create a BentoML Service for serving the model\n",
    "\n",
    "Note: using `%%writefile` here because bentoml.Service instance must be created in a separate .py file\n",
    "\n",
    "Here we define as many api endpoints as we want."
   ]
  },
  {
   "cell_type": "code",
   "execution_count": null,
   "id": "7fb96530",
   "metadata": {
    "ExecuteTime": {
     "end_time": "2022-06-02T15:43:45.102618Z",
     "start_time": "2022-06-02T15:43:45.084526Z"
    }
   },
   "outputs": [],
   "source": [
    "%%writefile service.py\n",
    "\n",
    "import numpy as np\n",
    "import bentoml\n",
    "from bentoml.io import NumpyNdarray,Text, Image\n",
    "\n",
    "model_tag = \"cancer_classifier_rc0:latest\"\n",
    "\n",
    "# Load the runner for the latest Pytorch model we just saved\n",
    "cancer_runner = bentoml.pytorch.get(model_tag).to_runner()\n",
    "data = bentoml.models.get(model_tag)\n",
    "\n",
    "nn = bentoml.Service(\"cancer_classifier_rc0\", runners=[cancer_runner])\n",
    "\n",
    "@nn.api(input=NumpyNdarray(), output=Text())\n",
    "def predict_cancer(input_series: np.ndarray) -> str:    \n",
    "    try:\n",
    "        result = cancer_runner.run(input_series)\n",
    "        result = data.custom_objects['labels'][np.argmax(result.detach().numpy()).item()]\n",
    "        return result\n",
    "    except:\n",
    "        return 'Exception: Invalid Input'"
   ]
  },
  {
   "cell_type": "markdown",
   "id": "bb358fd5",
   "metadata": {},
   "source": [
    "Start a dev model server to test out the service defined above"
   ]
  },
  {
   "cell_type": "code",
   "execution_count": null,
   "id": "c87e4742",
   "metadata": {},
   "outputs": [],
   "source": [
    "!bentoml serve service.py:svc --reload"
   ]
  },
  {
   "cell_type": "markdown",
   "id": "d3750d39",
   "metadata": {},
   "source": [
    "Open your web browser at http://127.0.0.1:3000 to view the Bento UI for sending test requests. Now you can use something like:"
   ]
  },
  {
   "cell_type": "code",
   "execution_count": null,
   "id": "57d4aaa5",
   "metadata": {},
   "outputs": [],
   "source": [
    "import requests,json \n",
    "\n",
    "def predict_cancer(host, data):\n",
    "    data_json=json.dumps(data.tolist())\n",
    "    print('Sending Request')\n",
    "    resp = requests.post(\n",
    "        url = f\"http://{host}/predict_cancer\",\n",
    "        headers={\"Content-Type\": \"application/json\"},\n",
    "        data=data_json,\n",
    "           )\n",
    "    print('Response')\n",
    "    return resp\n"
   ]
  },
  {
   "cell_type": "code",
   "execution_count": null,
   "id": "c8d42c4e",
   "metadata": {},
   "outputs": [],
   "source": [
    "response = predict_cancer('127.0.0.1:3000', X_test[21])\n",
    "response.text"
   ]
  },
  {
   "cell_type": "markdown",
   "id": "594ffd79",
   "metadata": {},
   "source": [
    "## Build a Bento for distribution and deployment\n",
    "\n",
    "Bento is the distribution format in BentoML which captures all the source code, model files, config files and dependency specifications required for running the service for production deployment. Think of it as Docker/Container designed for machine learning models.\n",
    "\n",
    "Create a bento file `bentofile.yaml` for building a Bento for the service:\n"
   ]
  },
  {
   "cell_type": "code",
   "execution_count": null,
   "id": "e221d531",
   "metadata": {
    "ExecuteTime": {
     "end_time": "2022-06-02T15:43:50.665859Z",
     "start_time": "2022-06-02T15:43:50.659282Z"
    }
   },
   "outputs": [],
   "source": [
    "%%writefile bentofile.yaml\n",
    "\n",
    "service: \"service.py:nn\"  # A convention for locating your service: <YOUR_SERVICE_PY>:<YOUR_SERVICE_ANNOTATION>\n",
    "description: \"file: ./README.md\"\n",
    "labels:\n",
    "    owner: bentoml-team\n",
    "    stage: demo\n",
    "include:\n",
    " - \"*.py\"  # A pattern for matching which files to include in the bento\n",
    "python:\n",
    "  packages:\n",
    "   - numpy  # Additional libraries to be included in the bento\n",
    "   - torch"
   ]
  },
  {
   "cell_type": "markdown",
   "id": "580dfdaf",
   "metadata": {},
   "source": [
    "Simply run `bentoml build` from current directory to build a Bento with the latest version of the tensorflow_mnist model. This may take a while when running for the first time for BentoML to resolve all dependency versions:"
   ]
  },
  {
   "cell_type": "code",
   "execution_count": null,
   "id": "855ac85c",
   "metadata": {},
   "outputs": [],
   "source": [
    "!bentoml build"
   ]
  },
  {
   "cell_type": "markdown",
   "id": "2ca64a5a",
   "metadata": {},
   "source": [
    "Starting a dev server with the Bento build:"
   ]
  },
  {
   "cell_type": "code",
   "execution_count": null,
   "id": "cfff3a9b",
   "metadata": {},
   "outputs": [],
   "source": [
    "!bentoml serve cancer_classifier_rc0:latest"
   ]
  },
  {
   "cell_type": "markdown",
   "id": "10edb7a8",
   "metadata": {},
   "source": [
    "## Containerize and Deployment\n",
    "\n",
    "Bento is designed to be deployed to run efficiently in a variety of different environments. And there are lots of deployment options and tools as part of the BentoML eco-system, such as Yatai and bentoctl for direct deployment to cloud platforms.\n",
    "\n",
    "In this guide, we will show you the most basic way of deploying a Bento, which is converting a Bento into a Docker image containing the HTTP model server.\n",
    "\n",
    "Make sure you have docker installed and docker deamon running, and run the following command:"
   ]
  },
  {
   "cell_type": "code",
   "execution_count": null,
   "id": "045b8d10",
   "metadata": {},
   "outputs": [],
   "source": [
    "!bentoml containerize cancer_classifier_rc0:latest"
   ]
  },
  {
   "cell_type": "markdown",
   "id": "0366f509",
   "metadata": {},
   "source": [
    "This will build a new docker image with all source code, model files and dependencies in place, and ready for production deployment. To start a container with this docker image locally, run:\n",
    "\n",
    "`docker run -p 3000:3000 cancer_classifier_rc0:rickmtw752h5xgh2 `"
   ]
  },
  {
   "cell_type": "markdown",
   "id": "bd0b9552",
   "metadata": {},
   "source": [
    "## What's Next?,\n",
    "   \n",
    "  - 👉 [Pop into our Slack community!](https://l.linklyhq.com/l/ktO8) We're happy to help with any issue you face or even just to meet you and hear what you're working on.,\n",
    "   \n",
    "  - Dive deeper into the [Core Concepts](https://docs.bentoml.org/en/latest/concepts/index.html) in BentoML,\n",
    "  \n",
    "  - Learn how to use BentoML with other ML Frameworks at [Frameworks Guide](https://docs.bentoml.org/en/latest/frameworks/index.html) or check out other [gallery projects](https://github.com/bentoml/gallery),\n",
    "  - Learn more about model deployment options for Bento:,\n",
    "      - [🦄️ Yatai](https://github.com/bentoml/Yatai): Model Deployment at scale on Kubernetes,\n",
    "      - [🚀 bentoctl](https://github.com/bentoml/bentoctl): Fast model deployment on any cloud platform"
   ]
  }
 ],
 "metadata": {
  "kernelspec": {
   "display_name": "Python 3 (ipykernel)",
   "language": "python",
   "name": "python3"
  },
  "language_info": {
   "codemirror_mode": {
    "name": "ipython",
    "version": 3
   },
   "file_extension": ".py",
   "mimetype": "text/x-python",
   "name": "python",
   "nbconvert_exporter": "python",
   "pygments_lexer": "ipython3",
   "version": "3.8.13"
  },
  "toc": {
   "base_numbering": 1,
   "nav_menu": {},
   "number_sections": true,
   "sideBar": true,
   "skip_h1_title": false,
   "title_cell": "Table of Contents",
   "title_sidebar": "Contents",
   "toc_cell": false,
   "toc_position": {},
   "toc_section_display": true,
   "toc_window_display": false
  }
 },
 "nbformat": 4,
 "nbformat_minor": 5
}
